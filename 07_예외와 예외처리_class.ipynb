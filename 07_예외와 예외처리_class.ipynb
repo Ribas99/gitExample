{
 "cells": [
  {
   "cell_type": "code",
   "execution_count": 24,
   "metadata": {
    "scrolled": true
   },
   "outputs": [
    {
     "name": "stdout",
     "output_type": "stream",
     "text": [
      "숫자:(0은안됨) 0\n",
      "0으로 나눌 수 없습니다.\n",
      "뺀 결과: 10\n"
     ]
    }
   ],
   "source": [
    "a = 10\n",
    "# b = 0\n",
    "b = int(input(\"숫자:(0은안됨) \"))\n",
    "\n",
    "try: \n",
    "    c = a / b  #예외가 발생할 가능성이 있는 코드 (를 시도해봐-try 블럭)\n",
    "    print(\"나눈 결과: \", c)\n",
    "    \n",
    "except: #만약에 예외가 발생했다면(비정상적 상황) except 블럭을 실행 => 정상화 =>예외처리\n",
    "    print(\"0으로 나눌 수 없습니다.\")\n",
    "    \n",
    "\n",
    "    \n",
    "d = a - b\n",
    "print(\"뺀 결과:\", d)"
   ]
  },
  {
   "cell_type": "code",
   "execution_count": 38,
   "metadata": {},
   "outputs": [
    {
     "name": "stdout",
     "output_type": "stream",
     "text": [
      "NameError발생처리\n",
      "정상종료\n"
     ]
    }
   ],
   "source": [
    "# 특정 Exception만 처리\n",
    "try:\n",
    "    a = 10 /  0    #ZeroDivisionError \n",
    "    \n",
    "    b = test(a)     #NameError\n",
    "    \n",
    "    l = [1,2,3]\n",
    "    print(l[10]+b)   # IndexError\n",
    "# except:\n",
    "except NameError:   #NameError만 처리\n",
    "    print(\"NameError발생처리\")\n",
    "\n",
    "print(\"정상종료\")"
   ]
  },
  {
   "cell_type": "code",
   "execution_count": 41,
   "metadata": {},
   "outputs": [
    {
     "name": "stdout",
     "output_type": "stream",
     "text": [
      "1.0\n",
      "IndexError 발생처리\n",
      "정상종료\n"
     ]
    }
   ],
   "source": [
    "try:\n",
    "    a = 10 /  10    #ZeroDivisionError \n",
    "    \n",
    "    b = print(a)     #NameError\n",
    "    \n",
    "    l = [1,2,3]\n",
    "    print(l[10]+b)   # IndexError\n",
    "except NameError:   #NameError만 처리\n",
    "    print(\"NameError발생처리\")\n",
    "except ZeroDivisionError:#ZeroDivisionError만 처리\n",
    "    print(\"ZeroDivisionError 발생 처리\")\n",
    "except IndexError:#IndexError 만 처리\n",
    "    print(\"IndexError 발생처리\")\n",
    "print(\"정상종료\")"
   ]
  },
  {
   "cell_type": "code",
   "execution_count": 42,
   "metadata": {},
   "outputs": [
    {
     "ename": "SyntaxError",
     "evalue": "default 'except:' must be last (<ipython-input-42-408e6f96fccc>, line 7)",
     "output_type": "error",
     "traceback": [
      "\u001b[1;36m  File \u001b[1;32m\"<ipython-input-42-408e6f96fccc>\"\u001b[1;36m, line \u001b[1;32m7\u001b[0m\n\u001b[1;33m    print(l[10]+b)   # IndexError\u001b[0m\n\u001b[1;37m    ^\u001b[0m\n\u001b[1;31mSyntaxError\u001b[0m\u001b[1;31m:\u001b[0m default 'except:' must be last\n"
     ]
    }
   ],
   "source": [
    "try:\n",
    "    a = 10 /  10    #ZeroDivisionError \n",
    "    \n",
    "    b = print(a)     #NameError\n",
    "    \n",
    "    l = [1,2,3]\n",
    "    print(l[10]+b)   # IndexError\n",
    "    \n",
    "except NameError:   #NameError만 처리\n",
    "    print(\"NameError발생처리\")\n",
    "except ZeroDivisionError:#ZeroDivisionError만 처리\n",
    "    print(\"ZeroDivisionError 발생 처리\")\n",
    "except: #NameError, ZeroDivisionError를 제외한 나머지 Exception(Error)들을 처리.=> except의 마지막 구문으로 넣는다.\n",
    "    print(\"공통 발생처리\")\n",
    "print(\"정상종료\")"
   ]
  },
  {
   "cell_type": "code",
   "execution_count": 44,
   "metadata": {},
   "outputs": [
    {
     "name": "stdout",
     "output_type": "stream",
     "text": [
      "1.0\n",
      "예외가 발생안함\n",
      "종료\n"
     ]
    }
   ],
   "source": [
    "a = 10\n",
    "\n",
    "try:\n",
    "    b = 10 / a\n",
    "    print(b)\n",
    "    print(\"예외가 발생안함\")\n",
    "except:\n",
    "    print(\"0으로 못나눔.\")\n",
    "# else:\n",
    "#     print(\"예외가 발생안함\")    \n",
    "\n",
    "print(\"종료\")"
   ]
  },
  {
   "cell_type": "markdown",
   "metadata": {},
   "source": [
    "## finally"
   ]
  },
  {
   "cell_type": "code",
   "execution_count": 48,
   "metadata": {},
   "outputs": [
    {
     "name": "stdout",
     "output_type": "stream",
     "text": [
      "0.1\n",
      "finally블럭 실행\n"
     ]
    },
    {
     "ename": "NameError",
     "evalue": "name 'test' is not defined",
     "output_type": "error",
     "traceback": [
      "\u001b[1;31m---------------------------------------------------------------------------\u001b[0m",
      "\u001b[1;31mNameError\u001b[0m                                 Traceback (most recent call last)",
      "\u001b[1;32m<ipython-input-48-3e0a76a588ef>\u001b[0m in \u001b[0;36m<module>\u001b[1;34m\u001b[0m\n\u001b[0;32m      2\u001b[0m \u001b[1;31m#     print(1/0)#ZeroDivisionError\u001b[0m\u001b[1;33m\u001b[0m\u001b[1;33m\u001b[0m\u001b[1;33m\u001b[0m\u001b[0m\n\u001b[0;32m      3\u001b[0m     \u001b[0mprint\u001b[0m\u001b[1;33m(\u001b[0m\u001b[1;36m1\u001b[0m\u001b[1;33m/\u001b[0m\u001b[1;36m10\u001b[0m\u001b[1;33m)\u001b[0m\u001b[1;33m\u001b[0m\u001b[1;33m\u001b[0m\u001b[0m\n\u001b[1;32m----> 4\u001b[1;33m     \u001b[0mtest\u001b[0m\u001b[1;33m(\u001b[0m\u001b[1;33m)\u001b[0m \u001b[1;31m#NameError\u001b[0m\u001b[1;33m\u001b[0m\u001b[1;33m\u001b[0m\u001b[0m\n\u001b[0m\u001b[0;32m      5\u001b[0m     \u001b[0mprint\u001b[0m\u001b[1;33m(\u001b[0m\u001b[1;34m'try 블럭 실행'\u001b[0m\u001b[1;33m)\u001b[0m\u001b[1;33m\u001b[0m\u001b[1;33m\u001b[0m\u001b[0m\n\u001b[0;32m      6\u001b[0m \u001b[1;33m\u001b[0m\u001b[0m\n",
      "\u001b[1;31mNameError\u001b[0m: name 'test' is not defined"
     ]
    }
   ],
   "source": [
    "try:\n",
    "#     print(1/0)#ZeroDivisionError\n",
    "    print(1/10)\n",
    "    test() #NameError\n",
    "    print('try 블럭 실행')\n",
    "    \n",
    "except ZeroDivisionError:\n",
    "    print(\"except 블럭 실행\")\n",
    "finally: #무조건 실행되는 코드블럭 - I/O에서 외부자원과 연결을 닫는 코드를 작성.\n",
    "    print(\"finally블럭 실행\")\n",
    "print(\"종료\")    "
   ]
  },
  {
   "cell_type": "code",
   "execution_count": 49,
   "metadata": {},
   "outputs": [],
   "source": [
    "dic = {\n",
    "    \"사과\":10,\n",
    "    \"귤\":20,\n",
    "    \"배\":5    \n",
    "}"
   ]
  },
  {
   "cell_type": "code",
   "execution_count": 59,
   "metadata": {},
   "outputs": [
    {
     "name": "stdout",
     "output_type": "stream",
     "text": [
      "10\n"
     ]
    }
   ],
   "source": [
    "try:\n",
    "    r = dic['복숭아']\n",
    "    print(r)\n",
    "except:\n",
    "    print(\"복숭아는 없습니다.\")"
   ]
  },
  {
   "cell_type": "code",
   "execution_count": 57,
   "metadata": {},
   "outputs": [
    {
     "name": "stdout",
     "output_type": "stream",
     "text": [
      "복숭아는 없습니다.\n"
     ]
    }
   ],
   "source": [
    "r = dic.get(\"복숭아\")\n",
    "if r != None:  #if r:\n",
    "    print(r)\n",
    "else:\n",
    "    print(\"복숭아는 없습니다.\")"
   ]
  },
  {
   "cell_type": "markdown",
   "metadata": {},
   "source": [
    "## 함수/메소드 호출 흐름\n",
    "- call stack mechanism"
   ]
  },
  {
   "cell_type": "code",
   "execution_count": 91,
   "metadata": {},
   "outputs": [],
   "source": [
    "def a():\n",
    "    print('a시작')\n",
    "    b()\n",
    "#     try:\n",
    "#         b()\n",
    "#     except:\n",
    "#         print('A에서 예외처리')\n",
    "    print('a종료')\n",
    "    \n",
    "def b():\n",
    "    print('b시작')\n",
    "    c()\n",
    "#     try:\n",
    "#         c()\n",
    "#     except:\n",
    "#         print(\"B에서 예외처리\")\n",
    "    print('b종료')\n",
    "    \n",
    "def c():\n",
    "    print('c시작')\n",
    "    print(10/0)\n",
    "    print('c종료')    "
   ]
  },
  {
   "cell_type": "code",
   "execution_count": 92,
   "metadata": {},
   "outputs": [
    {
     "name": "stdout",
     "output_type": "stream",
     "text": [
      "a시작\n",
      "b시작\n",
      "c시작\n",
      "시작에서 예외처리\n"
     ]
    }
   ],
   "source": [
    "try:\n",
    "    a()\n",
    "except:\n",
    "    print(\"시작에서 예외처리\")"
   ]
  },
  {
   "cell_type": "markdown",
   "metadata": {},
   "source": [
    "### 예외클래스 정의 및 예외 발생"
   ]
  },
  {
   "cell_type": "code",
   "execution_count": 97,
   "metadata": {},
   "outputs": [],
   "source": [
    "# 예외클래스 정의: 이름관례 - ~~~Error\n",
    "class InvalidMonthError(Exception):\n",
    "    \n",
    "    def __init__(self, invalid_month):\n",
    "        self.invalid_month = invalid_month\n",
    "        \n",
    "    def __str__(self):\n",
    "        return f\"{self.invalid_month} - 사용할 수 없는 월입니다. 1 ~ 12만 가능합니다.\""
   ]
  },
  {
   "cell_type": "code",
   "execution_count": 98,
   "metadata": {},
   "outputs": [],
   "source": [
    "def set_month(month):\n",
    "    \"\"\"\n",
    "    월을 변경하는 함수\n",
    "    [매개변수]\n",
    "        month: int - 변경할 월 (1 ~ 12 사이의 정수)\n",
    "    [반환값]\n",
    "    \n",
    "    [exception]\n",
    "        InvalidMonthError: 변경할 수 없는 월을 매개변수로 받으면 발생.\n",
    "    \"\"\"\n",
    "    if month>=1 and month <= 12:\n",
    "        print(f\"{month}월로 변경합니다.\")\n",
    "    else:\n",
    "#         예외를 발생시킨다. raise Exception객체\n",
    "        raise InvalidMonthError(month)\n"
   ]
  },
  {
   "cell_type": "code",
   "execution_count": 99,
   "metadata": {
    "collapsed": true
   },
   "outputs": [
    {
     "ename": "InvalidMonthError",
     "evalue": "100 - 사용할 수 없는 월입니다. 1 ~ 12만 가능합니다.",
     "output_type": "error",
     "traceback": [
      "\u001b[1;31m---------------------------------------------------------------------------\u001b[0m",
      "\u001b[1;31mInvalidMonthError\u001b[0m                         Traceback (most recent call last)",
      "\u001b[1;32m<ipython-input-99-f154ec8da705>\u001b[0m in \u001b[0;36m<module>\u001b[1;34m\u001b[0m\n\u001b[1;32m----> 1\u001b[1;33m \u001b[0mset_month\u001b[0m\u001b[1;33m(\u001b[0m\u001b[1;36m100\u001b[0m\u001b[1;33m)\u001b[0m\u001b[1;33m\u001b[0m\u001b[1;33m\u001b[0m\u001b[0m\n\u001b[0m\u001b[0;32m      2\u001b[0m \u001b[1;31m# try:\u001b[0m\u001b[1;33m\u001b[0m\u001b[1;33m\u001b[0m\u001b[1;33m\u001b[0m\u001b[0m\n\u001b[0;32m      3\u001b[0m \u001b[1;31m#     set_month(100) #월이 변경이 안됨.\u001b[0m\u001b[1;33m\u001b[0m\u001b[1;33m\u001b[0m\u001b[1;33m\u001b[0m\u001b[0m\n\u001b[0;32m      4\u001b[0m \u001b[1;31m# except:\u001b[0m\u001b[1;33m\u001b[0m\u001b[1;33m\u001b[0m\u001b[1;33m\u001b[0m\u001b[0m\n\u001b[0;32m      5\u001b[0m \u001b[1;31m#     print(\"예외처리\")\u001b[0m\u001b[1;33m\u001b[0m\u001b[1;33m\u001b[0m\u001b[1;33m\u001b[0m\u001b[0m\n",
      "\u001b[1;32m<ipython-input-98-70bfb4400911>\u001b[0m in \u001b[0;36mset_month\u001b[1;34m(month)\u001b[0m\n\u001b[0;32m     13\u001b[0m     \u001b[1;32melse\u001b[0m\u001b[1;33m:\u001b[0m\u001b[1;33m\u001b[0m\u001b[1;33m\u001b[0m\u001b[0m\n\u001b[0;32m     14\u001b[0m \u001b[1;31m#         예외를 발생시킨다. raise Exception객체\u001b[0m\u001b[1;33m\u001b[0m\u001b[1;33m\u001b[0m\u001b[1;33m\u001b[0m\u001b[0m\n\u001b[1;32m---> 15\u001b[1;33m         \u001b[1;32mraise\u001b[0m \u001b[0mInvalidMonthError\u001b[0m\u001b[1;33m(\u001b[0m\u001b[0mmonth\u001b[0m\u001b[1;33m)\u001b[0m\u001b[1;33m\u001b[0m\u001b[1;33m\u001b[0m\u001b[0m\n\u001b[0m",
      "\u001b[1;31mInvalidMonthError\u001b[0m: 100 - 사용할 수 없는 월입니다. 1 ~ 12만 가능합니다."
     ]
    }
   ],
   "source": [
    "set_month(100)\n",
    "print(\"월 변경후 해야하는 다음 작업 실행\")"
   ]
  },
  {
   "cell_type": "code",
   "execution_count": 106,
   "metadata": {},
   "outputs": [
    {
     "name": "stdout",
     "output_type": "stream",
     "text": [
      "set_month 호출시 오류발생,100 - 사용할 수 없는 월입니다. 1 ~ 12만 가능합니다.,100\n",
      "100 - 사용할 수 없는 월입니다. 1 ~ 12만 가능합니다.\n"
     ]
    }
   ],
   "source": [
    "try:\n",
    "    set_month(100)\n",
    "    print(\"월 변경후 해야하는 다음 작업 실행\")\n",
    "except  InvalidMonthError as e: #except  예외클래스 as 변수: 변수를 이용해 raise된 Exception객체를 받을 수 있다.\n",
    "    print(\"set_month 호출시 오류발생\", e, e.invalid_month, sep=\",\")\n",
    "    print(e)"
   ]
  },
  {
   "cell_type": "code",
   "execution_count": null,
   "metadata": {},
   "outputs": [],
   "source": []
  },
  {
   "cell_type": "code",
   "execution_count": null,
   "metadata": {},
   "outputs": [],
   "source": [
    "# 주문 함수\n",
    "1. 재고량을 조회\n",
    "2. 주문량과 재고량을 비교\n",
    "   2-1 재고량 >= 주문량 : 정상 주문처리\n",
    "   2-2 재고량 < 주문량 : 주문처리(X) => 예외를 발생"
   ]
  },
  {
   "cell_type": "code",
   "execution_count": 113,
   "metadata": {},
   "outputs": [],
   "source": [
    "# 주문처리를 못하는 상황에서 발생시킬 예외클래스 \n",
    "class OrderFailError(Exception):\n",
    "    def __init__(self, error_message):\n",
    "        self.message = error_message\n",
    "        \n",
    "    def __str__(self):\n",
    "        return self.message"
   ]
  },
  {
   "cell_type": "code",
   "execution_count": 114,
   "metadata": {},
   "outputs": [],
   "source": [
    "def order(order_amount):\n",
    "    \"\"\"\n",
    "    [매개변수]\n",
    "        order_amount: int - 주문량\n",
    "    \"\"\"\n",
    "    # 재고량을 조회\n",
    "    stock_amount = 10\n",
    "    \n",
    "    if stock_amount < order_amount: #재고량보다 주문량이 많으면\n",
    "        raise OrderFailError(f\"주문량이 재고량보다 많습니다. 주문량: {order_amount}, 재고량: {stock_amount}\")\n",
    "        \n",
    "    # 주문처리\n",
    "    stock_amount = stock_amount - order_amount\n",
    "    print(\"주문처리 완료\")\n",
    "    print(f\"주문처리량: {order_amount}, 주문후 재고량: {stock_amount}\")"
   ]
  },
  {
   "cell_type": "code",
   "execution_count": 118,
   "metadata": {},
   "outputs": [
    {
     "name": "stdout",
     "output_type": "stream",
     "text": [
      "주문량이 재고량보다 많습니다. 주문량: 100, 재고량: 10\n"
     ]
    }
   ],
   "source": [
    "# 주문요청(call)\n",
    "try:\n",
    "    order(100)\n",
    "    print(\"주문후 다음 작업\")\n",
    "except OrderFailError as e:\n",
    "    print(e)"
   ]
  },
  {
   "cell_type": "markdown",
   "metadata": {},
   "source": [
    "호출한 곳으로 돌아간다.\n",
    "return 처리결과: 함수/메소드의 정상종료\n",
    "raise 예외객체: 함수/메소드의 비정상종료"
   ]
  },
  {
   "cell_type": "code",
   "execution_count": 119,
   "metadata": {},
   "outputs": [],
   "source": [
    "def plus(n1, n2):\n",
    "    return n1 + n2"
   ]
  },
  {
   "cell_type": "code",
   "execution_count": 120,
   "metadata": {},
   "outputs": [
    {
     "data": {
      "text/plain": [
       "3"
      ]
     },
     "execution_count": 120,
     "metadata": {},
     "output_type": "execute_result"
    }
   ],
   "source": [
    "plus(1,2)"
   ]
  },
  {
   "cell_type": "code",
   "execution_count": null,
   "metadata": {},
   "outputs": [],
   "source": []
  },
  {
   "cell_type": "code",
   "execution_count": null,
   "metadata": {},
   "outputs": [],
   "source": []
  },
  {
   "cell_type": "code",
   "execution_count": null,
   "metadata": {},
   "outputs": [],
   "source": []
  }
 ],
 "metadata": {
  "kernelspec": {
   "display_name": "Python 3",
   "language": "python",
   "name": "python3"
  },
  "language_info": {
   "codemirror_mode": {
    "name": "ipython",
    "version": 3
   },
   "file_extension": ".py",
   "mimetype": "text/x-python",
   "name": "python",
   "nbconvert_exporter": "python",
   "pygments_lexer": "ipython3",
   "version": "3.8.5"
  }
 },
 "nbformat": 4,
 "nbformat_minor": 4
}
