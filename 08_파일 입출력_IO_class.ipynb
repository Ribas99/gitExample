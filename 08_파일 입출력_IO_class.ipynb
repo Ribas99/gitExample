{
 "cells": [
  {
   "cell_type": "markdown",
   "metadata": {},
   "source": [
    "## 파일의 경로(Path)\n",
    "- 절대경로(Absolute path): 시작 디렉토리(폴더-Root 디렉토리)부터 자원의 전체경로를 표현하는 방식.(시작: Root)\n",
    "    - windows: c:\\text\\python\\io.txt  - c:\\ root director. 경로구분자: \\ (역슬러시)\n",
    "    - 리눅스/유닉스:   /text/python/io.txt  - / : root directory 경로구분자: / (슬러시)\n",
    "- 상대경로: 현재디렉토리에서부터 찾아가는 경로 표현방식(시작: 현재디렉토리)\n",
    "    - `.` : 현재 디렉토리\n",
    "    - `..`: 상위 디렉토리\n",
    "    - `/`: 경로구분자"
   ]
  },
  {
   "cell_type": "markdown",
   "metadata": {},
   "source": [
    "### os 모듈\n",
    "- 표준 모듈 (설치는 필요 없지만 import 는 해야한다.)\n",
    "- 운영체제(os)에서 제공하는 기능들을 파이썬 프로그램에서 사용할 수 있도록 도와주는 모듈"
   ]
  },
  {
   "cell_type": "code",
   "execution_count": 3,
   "metadata": {},
   "outputs": [],
   "source": [
    "import os"
   ]
  },
  {
   "cell_type": "code",
   "execution_count": 4,
   "metadata": {},
   "outputs": [
    {
     "name": "stdout",
     "output_type": "stream",
     "text": [
      "C:\\Users\\Playdata\\Python\n"
     ]
    }
   ],
   "source": [
    "# 현재 디렉토리를 문자열로 반환\n",
    "curr_dir = os.getcwd()  #current work director\n",
    "print(curr_dir) #주피터노트북: 현재 작성하는 ipynb 파일이 위치한 경로."
   ]
  },
  {
   "cell_type": "code",
   "execution_count": 18,
   "metadata": {},
   "outputs": [],
   "source": [
    "# 현재디렉토리 변경 \n",
    "# os.chdir(\"/home/temp\")  #change directory  ./\n",
    "os.chdir(\"c:\\\\temp\") \n",
    "os.chdir(\"c:/temp\") \n",
    "os.chdir(r\"c:\\temp\") "
   ]
  },
  {
   "cell_type": "code",
   "execution_count": 19,
   "metadata": {},
   "outputs": [
    {
     "data": {
      "text/plain": [
       "'c:\\\\temp'"
      ]
     },
     "execution_count": 19,
     "metadata": {},
     "output_type": "execute_result"
    }
   ],
   "source": [
    "os.getcwd()"
   ]
  },
  {
   "cell_type": "markdown",
   "metadata": {},
   "source": [
    "#### escape문자\n",
    "- `\\문자`로 시작하는 문자. text로 표현하지 못하는 문자를 표현하는 문자.\n",
    "- `\\n` : 엔터\n",
    "- `\\t` : 탭\n",
    "- `\\\\` : \\"
   ]
  },
  {
   "cell_type": "code",
   "execution_count": 17,
   "metadata": {},
   "outputs": [
    {
     "name": "stdout",
     "output_type": "stream",
     "text": [
      "a\n",
      "b\n",
      "a\tb\tc\n",
      "a\tb\tc\n",
      "a\bc\n",
      "\\t 는 탭입니다.\n",
      "c:\\src\\a.py\n",
      "c:/src/a.py\n",
      "c:\\src\\a.py\n"
     ]
    }
   ],
   "source": [
    "print('a\\nb')\n",
    "print(\"a\\tb\\tc\")\n",
    "print(\"a\\tb\\tc\")\n",
    "print(\"a\\bc\") #back space\n",
    "print(\"\\\\t 는 탭입니다.\")\n",
    "print(\"c:\\\\src\\\\a.py\")\n",
    "print(\"c:/src/a.py\") #파이썬에서 문자열로 파일 경로 표시할 때 windows라고 해도 /(슬러시)를 사용해도 인식함.\n",
    "print(r\"c:\\src\\a.py\") # raw string => \\를 escape문자의 접두어로 인식하지 않는다."
   ]
  },
  {
   "cell_type": "code",
   "execution_count": 7,
   "metadata": {},
   "outputs": [
    {
     "name": "stdout",
     "output_type": "stream",
     "text": [
      "c:\t\n",
      "\n"
     ]
    }
   ],
   "source": [
    "print(\"c:\\t\\n\")"
   ]
  },
  {
   "cell_type": "code",
   "execution_count": 20,
   "metadata": {},
   "outputs": [
    {
     "data": {
      "text/plain": [
       "'C:\\\\Users\\\\Playdata\\\\Python'"
      ]
     },
     "execution_count": 20,
     "metadata": {},
     "output_type": "execute_result"
    }
   ],
   "source": [
    "os.chdir(curr_dir)\n",
    "os.getcwd()"
   ]
  },
  {
   "cell_type": "code",
   "execution_count": 21,
   "metadata": {},
   "outputs": [
    {
     "data": {
      "text/plain": [
       "['.ipynb_checkpoints',\n",
       " '01_변수_데이터타입.ipynb',\n",
       " '02_자료구조.ipynb',\n",
       " '03_제어문.ipynb',\n",
       " '04_함수_class.ipynb',\n",
       " '05_객체지향프로그래밍_class.ipynb',\n",
       " '06_module_package_import_class.ipynb',\n",
       " '07_예외와 예외처리_class.ipynb',\n",
       " '08_파일 입출력_IO_class.ipynb',\n",
       " 'my_module.py',\n",
       " 'my_package',\n",
       " '__pycache__']"
      ]
     },
     "execution_count": 21,
     "metadata": {},
     "output_type": "execute_result"
    }
   ],
   "source": [
    "# 특정 디렉토리 안에 있는 하위디렉토리나 파일들의 이름을 리스트에 담아서 반환.\n",
    "# path를 지정하거나 생략하면 현재디렉토리내의 내용을 반환.\n",
    "path_list = os.listdir()\n",
    "path_list"
   ]
  },
  {
   "cell_type": "code",
   "execution_count": 25,
   "metadata": {},
   "outputs": [
    {
     "data": {
      "text/plain": [
       "['01_변수_데이터타입.ipynb',\n",
       " '02_자료구조.ipynb',\n",
       " '03_제어문.ipynb',\n",
       " '04_함수_class.ipynb',\n",
       " '05_객체지향프로그래밍_class.ipynb',\n",
       " '06_module_package_import_class.ipynb',\n",
       " '07_예외와 예외처리_class.ipynb',\n",
       " '08_파일 입출력_IO_class.ipynb']"
      ]
     },
     "execution_count": 25,
     "metadata": {},
     "output_type": "execute_result"
    }
   ],
   "source": [
    "# ipynb 파일들만 가진 리스트 \n",
    "[filename for filename in os.listdir() if filename.endswith('.ipynb')]"
   ]
  },
  {
   "cell_type": "code",
   "execution_count": 26,
   "metadata": {},
   "outputs": [
    {
     "data": {
      "text/plain": [
       "['Bandizip',\n",
       " 'Common Files',\n",
       " 'desktop.ini',\n",
       " 'Elantech',\n",
       " 'Google',\n",
       " 'Intel',\n",
       " 'Internet Explorer',\n",
       " 'Microsoft Update Health Tools',\n",
       " 'ModifiableWindowsApps',\n",
       " 'Notepad++',\n",
       " 'Uninstall Information',\n",
       " 'UNP',\n",
       " 'Windows Defender',\n",
       " 'Windows Defender Advanced Threat Protection',\n",
       " 'Windows Mail',\n",
       " 'Windows Media Player',\n",
       " 'Windows Multimedia Platform',\n",
       " 'Windows NT',\n",
       " 'Windows Photo Viewer',\n",
       " 'Windows Portable Devices',\n",
       " 'Windows Security',\n",
       " 'Windows Sidebar',\n",
       " 'WindowsApps',\n",
       " 'WindowsPowerShell']"
      ]
     },
     "execution_count": 26,
     "metadata": {},
     "output_type": "execute_result"
    }
   ],
   "source": [
    "os.listdir(r\"c:\\Program Files\")"
   ]
  },
  {
   "cell_type": "code",
   "execution_count": 27,
   "metadata": {},
   "outputs": [],
   "source": [
    "# 디렉토리 만들기\n",
    "os.mkdir(\"test\") # os.mkdir(\"./test\") #현재디렉토리에 test 디렉토리를 만든다."
   ]
  },
  {
   "cell_type": "code",
   "execution_count": 28,
   "metadata": {},
   "outputs": [
    {
     "ename": "FileExistsError",
     "evalue": "[WinError 183] 파일이 이미 있으므로 만들 수 없습니다: 'test'",
     "output_type": "error",
     "traceback": [
      "\u001b[1;31m---------------------------------------------------------------------------\u001b[0m",
      "\u001b[1;31mFileExistsError\u001b[0m                           Traceback (most recent call last)",
      "\u001b[1;32m<ipython-input-28-90ba2ceae59e>\u001b[0m in \u001b[0;36m<module>\u001b[1;34m\u001b[0m\n\u001b[1;32m----> 1\u001b[1;33m \u001b[0mos\u001b[0m\u001b[1;33m.\u001b[0m\u001b[0mmkdir\u001b[0m\u001b[1;33m(\u001b[0m\u001b[1;34m\"test\"\u001b[0m\u001b[1;33m)\u001b[0m\u001b[1;33m\u001b[0m\u001b[1;33m\u001b[0m\u001b[0m\n\u001b[0m",
      "\u001b[1;31mFileExistsError\u001b[0m: [WinError 183] 파일이 이미 있으므로 만들 수 없습니다: 'test'"
     ]
    }
   ],
   "source": [
    "os.mkdir(\"test\") #못만들면 예외발생"
   ]
  },
  {
   "cell_type": "code",
   "execution_count": 31,
   "metadata": {},
   "outputs": [
    {
     "ename": "FileNotFoundError",
     "evalue": "[WinError 3] 지정된 경로를 찾을 수 없습니다: 'test1\\\\test2\\\\test3'",
     "output_type": "error",
     "traceback": [
      "\u001b[1;31m---------------------------------------------------------------------------\u001b[0m",
      "\u001b[1;31mFileNotFoundError\u001b[0m                         Traceback (most recent call last)",
      "\u001b[1;32m<ipython-input-31-748aa96483c8>\u001b[0m in \u001b[0;36m<module>\u001b[1;34m\u001b[0m\n\u001b[1;32m----> 1\u001b[1;33m \u001b[0mos\u001b[0m\u001b[1;33m.\u001b[0m\u001b[0mmkdir\u001b[0m\u001b[1;33m(\u001b[0m\u001b[1;34mr\"test1\\test2\\test3\"\u001b[0m\u001b[1;33m)\u001b[0m\u001b[1;33m\u001b[0m\u001b[1;33m\u001b[0m\u001b[0m\n\u001b[0m",
      "\u001b[1;31mFileNotFoundError\u001b[0m: [WinError 3] 지정된 경로를 찾을 수 없습니다: 'test1\\\\test2\\\\test3'"
     ]
    }
   ],
   "source": [
    "os.mkdir(r\"test1\\test2\\test3\") # test1/test2 아래 test3을 만들어라. (test1/test2가 있는 상태에서 호출)"
   ]
  },
  {
   "cell_type": "code",
   "execution_count": 34,
   "metadata": {},
   "outputs": [],
   "source": [
    "os.makedirs(r\"test1\\test2\\test3\") # 없는 경로는 다 만든다."
   ]
  },
  {
   "cell_type": "code",
   "execution_count": 35,
   "metadata": {},
   "outputs": [],
   "source": [
    "# 디렉토리 삭제\n",
    "os.rmdir(r\"test1\\test2\\test3\") # test4를 삭제"
   ]
  },
  {
   "cell_type": "code",
   "execution_count": 36,
   "metadata": {
    "collapsed": true
   },
   "outputs": [
    {
     "ename": "OSError",
     "evalue": "[WinError 145] 디렉터리가 비어 있지 않습니다: 'test1'",
     "output_type": "error",
     "traceback": [
      "\u001b[1;31m---------------------------------------------------------------------------\u001b[0m",
      "\u001b[1;31mOSError\u001b[0m                                   Traceback (most recent call last)",
      "\u001b[1;32m<ipython-input-36-b0e2750532ae>\u001b[0m in \u001b[0;36m<module>\u001b[1;34m\u001b[0m\n\u001b[1;32m----> 1\u001b[1;33m \u001b[0mos\u001b[0m\u001b[1;33m.\u001b[0m\u001b[0mrmdir\u001b[0m\u001b[1;33m(\u001b[0m\u001b[1;34mr\"test1\"\u001b[0m\u001b[1;33m)\u001b[0m\u001b[1;33m\u001b[0m\u001b[1;33m\u001b[0m\u001b[0m\n\u001b[0m",
      "\u001b[1;31mOSError\u001b[0m: [WinError 145] 디렉터리가 비어 있지 않습니다: 'test1'"
     ]
    }
   ],
   "source": [
    "os.rmdir(r\"test1\")  #rmdir() 빈디렉토만 삭제가능"
   ]
  },
  {
   "cell_type": "code",
   "execution_count": 37,
   "metadata": {},
   "outputs": [],
   "source": [
    "os.removedirs(r\"test1/test2/test4\")"
   ]
  },
  {
   "cell_type": "code",
   "execution_count": 41,
   "metadata": {},
   "outputs": [],
   "source": [
    "os.removedirs(r\"test1/test2\")  #test1, test2 모두 삭제\n",
    "\n",
    "# test1밑에 test2만 있으면 test1, test2 모두 삭제\n",
    "# test1밑에 test2와 다른 디렉토리/파일이 있으면 test2만 삭제"
   ]
  },
  {
   "cell_type": "code",
   "execution_count": 42,
   "metadata": {},
   "outputs": [],
   "source": [
    "# 파일 삭제\n",
    "os.remove(\"a.txt\")"
   ]
  },
  {
   "cell_type": "markdown",
   "metadata": {},
   "source": [
    "### os.path 모듈\n",
    "- 경로 관련 처리를 하는 모듈"
   ]
  },
  {
   "cell_type": "code",
   "execution_count": 43,
   "metadata": {},
   "outputs": [],
   "source": [
    "import os"
   ]
  },
  {
   "cell_type": "code",
   "execution_count": 45,
   "metadata": {},
   "outputs": [
    {
     "data": {
      "text/plain": [
       "(False, True)"
      ]
     },
     "execution_count": 45,
     "metadata": {},
     "output_type": "execute_result"
    }
   ],
   "source": [
    "# 파일이나 디렉토리가 있는지 여부\n",
    "os.path.exists(\"a.txt\"), os.path.exists(\"my_module.py\")"
   ]
  },
  {
   "cell_type": "code",
   "execution_count": 48,
   "metadata": {},
   "outputs": [
    {
     "data": {
      "text/plain": [
       "(False, True, False)"
      ]
     },
     "execution_count": 48,
     "metadata": {},
     "output_type": "execute_result"
    }
   ],
   "source": [
    "# 디렉토리 인지 여부 (없으면 False)\n",
    "os.path.isdir('my_module.py'), os.path.isdir(\"test\"), os.path.isdir(\"aaaaa\")"
   ]
  },
  {
   "cell_type": "code",
   "execution_count": 52,
   "metadata": {},
   "outputs": [
    {
     "data": {
      "text/plain": [
       "(True, False, False)"
      ]
     },
     "execution_count": 52,
     "metadata": {},
     "output_type": "execute_result"
    }
   ],
   "source": [
    "# 파일인지 여부 (없으면 False)\n",
    "os.path.isfile('my_module.py'), os.path.isfile('test'), os.path.isfile('aaaaa.txt')"
   ]
  },
  {
   "cell_type": "code",
   "execution_count": 55,
   "metadata": {},
   "outputs": [],
   "source": [
    "path = 'test5'\n",
    "if not os.path.isdir(path): # test디렉토리가 없으면\n",
    "    os.mkdir(path)"
   ]
  },
  {
   "cell_type": "code",
   "execution_count": 56,
   "metadata": {},
   "outputs": [
    {
     "name": "stdout",
     "output_type": "stream",
     "text": [
      "C:\\project\\data\\image\n"
     ]
    }
   ],
   "source": [
    "# 경로를 문자열로 조합해주는 함수\n",
    "path = os.path.join(\"C:\\project\", \"data\", \"image\")\n",
    "print(path)"
   ]
  },
  {
   "cell_type": "code",
   "execution_count": null,
   "metadata": {},
   "outputs": [],
   "source": [
    "# 프로젝트 경로: C:\\project  \n",
    "#   데이터들을 저장할 경로: data\n",
    "#      이미지 데이터 : img\n",
    "#      텍스트 데이터 : txt\n",
    "#  소스 경로: src "
   ]
  },
  {
   "cell_type": "code",
   "execution_count": 63,
   "metadata": {},
   "outputs": [],
   "source": [
    "base_dir = r\"c:\\project\"\n",
    "# src_dir = base_dir + r\"\\src\"\n",
    "src_dir = os.path.join(base_dir, \"src\")\n",
    "data_dir = os.path.join(base_dir, \"data\")\n",
    "data_img_dir = os.path.join(data_dir, \"img\")\n",
    "data_txt_dir = os.path.join(data_dir, 'txt')"
   ]
  },
  {
   "cell_type": "code",
   "execution_count": 65,
   "metadata": {},
   "outputs": [
    {
     "name": "stdout",
     "output_type": "stream",
     "text": [
      "c:\\project\\data\\img\\1.jpg\n"
     ]
    }
   ],
   "source": [
    "img1_file = os.path.join(data_img_dir, '1.jpg')\n",
    "print(img1_file)"
   ]
  },
  {
   "cell_type": "code",
   "execution_count": 58,
   "metadata": {},
   "outputs": [
    {
     "data": {
      "text/plain": [
       "'c:\\\\project\\\\src'"
      ]
     },
     "execution_count": 58,
     "metadata": {},
     "output_type": "execute_result"
    }
   ],
   "source": [
    "src_dir"
   ]
  },
  {
   "cell_type": "code",
   "execution_count": 60,
   "metadata": {},
   "outputs": [
    {
     "data": {
      "text/plain": [
       "'c:\\\\project\\\\data'"
      ]
     },
     "execution_count": 60,
     "metadata": {},
     "output_type": "execute_result"
    }
   ],
   "source": [
    "data_dir"
   ]
  },
  {
   "cell_type": "code",
   "execution_count": 62,
   "metadata": {},
   "outputs": [
    {
     "data": {
      "text/plain": [
       "'c:\\\\project\\\\data\\\\img'"
      ]
     },
     "execution_count": 62,
     "metadata": {},
     "output_type": "execute_result"
    }
   ],
   "source": [
    "data_img_dir"
   ]
  },
  {
   "cell_type": "code",
   "execution_count": 64,
   "metadata": {},
   "outputs": [
    {
     "data": {
      "text/plain": [
       "'c:\\\\project\\\\data\\\\txt'"
      ]
     },
     "execution_count": 64,
     "metadata": {},
     "output_type": "execute_result"
    }
   ],
   "source": [
    "data_txt_dir"
   ]
  },
  {
   "cell_type": "code",
   "execution_count": 66,
   "metadata": {
    "collapsed": true
   },
   "outputs": [
    {
     "name": "stdout",
     "output_type": "stream",
     "text": [
      " C 드라이브의 볼륨에는 이름이 없습니다.\n",
      " 볼륨 일련 번호: 72CD-0C42\n",
      "\n",
      " C:\\Users\\Playdata\\Python 디렉터리\n",
      "\n",
      "2021-01-19  오후 02:14    <DIR>          .\n",
      "2021-01-19  오후 02:14    <DIR>          ..\n",
      "2021-01-19  오전 10:23    <DIR>          .ipynb_checkpoints\n",
      "2021-01-06  오전 11:40            66,182 01_변수_데이터타입.ipynb\n",
      "2021-01-07  오전 11:29            83,999 02_자료구조.ipynb\n",
      "2021-01-08  오후 05:48            56,508 03_제어문.ipynb\n",
      "2021-01-13  오전 09:27            63,777 04_함수_class.ipynb\n",
      "2021-01-15  오후 02:23            68,684 05_객체지향프로그래밍_class.ipynb\n",
      "2021-01-18  오전 10:01            18,052 06_module_package_import_class.ipynb\n",
      "2021-01-19  오전 10:21            17,505 07_예외와 예외처리_class.ipynb\n",
      "2021-01-19  오후 02:14            18,021 08_파일 입출력_IO_class.ipynb\n",
      "2021-01-15  오후 04:23               534 my_module.py\n",
      "2021-01-15  오후 04:33    <DIR>          my_package\n",
      "2021-01-19  오후 12:03    <DIR>          test\n",
      "2021-01-19  오후 12:18    <DIR>          test1\n",
      "2021-01-19  오후 12:07    <DIR>          test1test2\n",
      "2021-01-19  오후 12:27    <DIR>          test5\n",
      "2021-01-18  오전 09:57    <DIR>          __pycache__\n",
      "2021-01-19  오후 12:18    <DIR>          새 폴더\n",
      "               9개 파일             393,262 바이트\n",
      "              10개 디렉터리  196,229,431,296 바이트 남음\n"
     ]
    }
   ],
   "source": [
    "# 주피터 노트북에서 명령프롬프트(터미널) 명령이 실행\n",
    "# !명령어\n",
    "!dir"
   ]
  },
  {
   "cell_type": "code",
   "execution_count": 67,
   "metadata": {},
   "outputs": [
    {
     "name": "stdout",
     "output_type": "stream",
     "text": [
      "C:\\Users\\Playdata\\Python\n"
     ]
    }
   ],
   "source": [
    "!cd"
   ]
  },
  {
   "cell_type": "code",
   "execution_count": 68,
   "metadata": {
    "collapsed": true
   },
   "outputs": [
    {
     "name": "stderr",
     "output_type": "stream",
     "text": [
      "'ls'은(는) 내부 또는 외부 명령, 실행할 수 있는 프로그램, 또는\n",
      "배치 파일이 아닙니다.\n"
     ]
    }
   ],
   "source": [
    "!ls  \n",
    "#dir"
   ]
  },
  {
   "cell_type": "code",
   "execution_count": 69,
   "metadata": {
    "collapsed": true
   },
   "outputs": [
    {
     "name": "stderr",
     "output_type": "stream",
     "text": [
      "'pwd'은(는) 내부 또는 외부 명령, 실행할 수 있는 프로그램, 또는\n",
      "배치 파일이 아닙니다.\n"
     ]
    }
   ],
   "source": [
    "!pwd\n",
    "#cd"
   ]
  },
  {
   "cell_type": "markdown",
   "metadata": {},
   "source": [
    "# 텍스트 파일 입출력\n",
    "1. 연결 - open()\n",
    "2. 입출력 - read()/write()\n",
    "3. 연결 닫기 -  close()"
   ]
  },
  {
   "cell_type": "code",
   "execution_count": 70,
   "metadata": {},
   "outputs": [],
   "source": [
    "# 현재디렉토리안에 있는 a.txt 과 연결\n",
    "# wt: 쓰기/텍스트 모드 - 쓰기모드: 출력만 가능\n",
    "# encoding 생략: os 기본 인코딩 - win: cp949, 유닉스(맥)/리눅스: utf-8\n",
    "f = open(\"a.txt\", 'wt')  # 'w'=='wt' t는 기본이므로 생략가능"
   ]
  },
  {
   "cell_type": "code",
   "execution_count": 71,
   "metadata": {},
   "outputs": [
    {
     "data": {
      "text/plain": [
       "18"
      ]
     },
     "execution_count": 71,
     "metadata": {},
     "output_type": "execute_result"
    }
   ],
   "source": [
    "# 출력\n",
    "txt = \"\"\"안녕하세요.\n",
    "ABCDE\n",
    "12345\"\"\"\n",
    "f.write(txt) #18: 글자수"
   ]
  },
  {
   "cell_type": "code",
   "execution_count": 72,
   "metadata": {},
   "outputs": [
    {
     "data": {
      "text/plain": [
       "8"
      ]
     },
     "execution_count": 72,
     "metadata": {},
     "output_type": "execute_result"
    }
   ],
   "source": [
    "f.write(\"두번째로 쓴내용\")"
   ]
  },
  {
   "cell_type": "code",
   "execution_count": 73,
   "metadata": {},
   "outputs": [],
   "source": [
    "#연결닫기\n",
    "f.close()"
   ]
  },
  {
   "cell_type": "code",
   "execution_count": 75,
   "metadata": {},
   "outputs": [
    {
     "ename": "ValueError",
     "evalue": "I/O operation on closed file.",
     "output_type": "error",
     "traceback": [
      "\u001b[1;31m---------------------------------------------------------------------------\u001b[0m",
      "\u001b[1;31mValueError\u001b[0m                                Traceback (most recent call last)",
      "\u001b[1;32m<ipython-input-75-4810c5f30bb9>\u001b[0m in \u001b[0;36m<module>\u001b[1;34m\u001b[0m\n\u001b[1;32m----> 1\u001b[1;33m \u001b[0mf\u001b[0m\u001b[1;33m.\u001b[0m\u001b[0mwrite\u001b[0m\u001b[1;33m(\u001b[0m\u001b[1;34m\"세번째\"\u001b[0m\u001b[1;33m)\u001b[0m\u001b[1;33m\u001b[0m\u001b[1;33m\u001b[0m\u001b[0m\n\u001b[0m",
      "\u001b[1;31mValueError\u001b[0m: I/O operation on closed file."
     ]
    }
   ],
   "source": [
    "f.write(\"세번째\")"
   ]
  },
  {
   "cell_type": "code",
   "execution_count": 76,
   "metadata": {},
   "outputs": [
    {
     "data": {
      "text/plain": [
       "'C:\\\\Users\\\\Playdata\\\\Python'"
      ]
     },
     "execution_count": 76,
     "metadata": {},
     "output_type": "execute_result"
    }
   ],
   "source": [
    "os.getcwd()"
   ]
  },
  {
   "cell_type": "code",
   "execution_count": 107,
   "metadata": {},
   "outputs": [
    {
     "name": "stdout",
     "output_type": "stream",
     "text": [
      "C:\\Users\\Playdata\\Python\\my_text.txt\n"
     ]
    }
   ],
   "source": [
    "file = os.path.join(os.getcwd(), \"my_text.txt\")\n",
    "print(file)\n",
    "# 출력 모드일때 파일이 없으면 파일을 생성한다.\n",
    "# w : 덮어쓰기\n",
    "f = open(file, \"wt\") #연결\n",
    "# 출력\n",
    "f.write(\"첫번째 줄\\n\")\n",
    "f.write(\"두번째 줄\\n\")\n",
    "f.write(\"세번째 줄\")\n",
    "# 연결닫기\n",
    "f.close()"
   ]
  },
  {
   "cell_type": "code",
   "execution_count": 117,
   "metadata": {},
   "outputs": [
    {
     "name": "stdout",
     "output_type": "stream",
     "text": [
      "C:\\Users\\Playdata\\Python\\my_text2.txt\n"
     ]
    }
   ],
   "source": [
    "file = os.path.join(os.getcwd(), \"my_text2.txt\")\n",
    "print(file)\n",
    "# 출력 모드일때 파일이 없으면 파일을 생성한다.\n",
    "# a : (출력)이어쓰기\n",
    "f = open(file, \"at\") # a: 이어쓰기\n",
    "# 출력\n",
    "f.write(\"첫번째 줄\\n\")\n",
    "f.write(\"두번째 줄\\n\")\n",
    "f.write(\"세번째 줄\")\n",
    "# 연결닫기\n",
    "f.close()"
   ]
  },
  {
   "cell_type": "code",
   "execution_count": 124,
   "metadata": {},
   "outputs": [],
   "source": [
    "file = os.path.join(os.getcwd(), \"my_text3.txt\")\n",
    "# print(file)\n",
    "# 출력 모드일때 파일이 없으면 파일을 생성한다.\n",
    "# a : (출력)이어쓰기\n",
    "f = open(file, \"at\") # a: 이어쓰기\n",
    "# 출력\n",
    "f.write(\"첫번째 줄\\n\")\n",
    "f.write(\"두번째 줄\\n\")\n",
    "f.write(\"세번째 줄\")\n",
    "# 연결닫기\n",
    "f.close() #최종출력"
   ]
  },
  {
   "cell_type": "code",
   "execution_count": 127,
   "metadata": {},
   "outputs": [
    {
     "data": {
      "text/plain": [
       "5"
      ]
     },
     "execution_count": 127,
     "metadata": {},
     "output_type": "execute_result"
    }
   ],
   "source": [
    "file = os.path.join(os.getcwd(), \"my_text4.txt\")\n",
    "# print(file)\n",
    "# 출력 모드일때 파일이 없으면 파일을 생성한다.\n",
    "# a : (출력)이어쓰기\n",
    "f = open(file, \"at\") # a: 이어쓰기\n",
    "# 출력\n",
    "f.write(\"첫번째 줄\\n\")\n",
    "f.flush() #버퍼(메모리)를 비워라=>파일에 써라.\n",
    "f.write(\"두번째 줄\\n\")\n",
    "f.flush()\n",
    "f.write(\"세번째 줄\")\n",
    "# 연결닫기\n",
    "f.close()"
   ]
  },
  {
   "cell_type": "code",
   "execution_count": 135,
   "metadata": {},
   "outputs": [
    {
     "name": "stdout",
     "output_type": "stream",
     "text": [
      "첫번째 줄\n",
      "두번째 줄\n",
      "세번째 줄첫번째 줄\n",
      "두번째 줄\n",
      "세번째 줄첫번째 줄\n",
      "두번째 줄\n",
      "세번째 줄\n"
     ]
    }
   ],
   "source": [
    "file = \"test.txt\"\n",
    "file = \"my_text3.txt\"\n",
    "# 읽기/텍스트\n",
    "# 읽기 모드인 경우 파일이 반드시 존재해야 한다.\n",
    "try:\n",
    "    #연결\n",
    "    fi = open(file, 'rt') #\"rt\": 생략가능\n",
    "    #읽기\n",
    "    txt = fi.read() #파일에서 읽은 데이터(텍스트)를 반환. read(): 한번에 전체를 읽는다.\n",
    "    print(txt)\n",
    "except:\n",
    "    print(f\"파일 {file}를 읽는 도중 오류발생\")\n",
    "finally:\n",
    "    # 연결닫기는 finally에서 처리\n",
    "    fi.close()"
   ]
  },
  {
   "cell_type": "code",
   "execution_count": 138,
   "metadata": {},
   "outputs": [
    {
     "name": "stdout",
     "output_type": "stream",
     "text": [
      "<class 'list'>\n",
      "['첫번째 줄\\n', '두번째 줄\\n', '세번째 줄첫번째 줄\\n', '두번째 줄\\n', '세번째 줄첫번째 줄\\n', '두번째 줄\\n', '세번째 줄']\n"
     ]
    }
   ],
   "source": [
    "try:\n",
    "    fi = open('my_text3.txt') #rt 모드\n",
    "#     txt = fi.read() # 전체를 읽어온다.\n",
    "    txt_list = fi.readlines()\n",
    "    print(type(txt_list)) # 한줄을 하나의 문자열로 해서 리스트로 묶어서 반환\n",
    "    print(txt_list)\n",
    "except:\n",
    "    print(\"오류발생\")\n",
    "finally:\n",
    "    fi.close()\n"
   ]
  },
  {
   "cell_type": "code",
   "execution_count": 142,
   "metadata": {},
   "outputs": [
    {
     "name": "stdout",
     "output_type": "stream",
     "text": [
      "1. 첫번째 줄\n",
      "3. 세번째 줄첫번째 줄\n",
      "5. 세번째 줄첫번째 줄\n"
     ]
    }
   ],
   "source": [
    "try:\n",
    "    fi = open('my_text3.txt')\n",
    "    # 입력 Stream(fi)은 iterable. for in문에서 사용시 한번 반복할때 한줄을 반환\n",
    "    for index, line_text in enumerate(fi, start=1): # 라인단위로 처리할 경우 사용.\n",
    "        if \"첫\" in line_text:\n",
    "            print(f\"{index}. {line_text}\", end=\"\")\n",
    "    \n",
    "except:\n",
    "    print(\"오류발생\")\n",
    "finally:\n",
    "    fi.close()    "
   ]
  },
  {
   "cell_type": "code",
   "execution_count": null,
   "metadata": {},
   "outputs": [],
   "source": [
    "# fo.writelines(['첫번째 줄\\n', '두번째 줄\\n', '세번째 줄첫번째 줄\\n', '두번째 줄\\n', '세번째 줄첫번째 줄\\n', '두번째 줄\\n', '세번째 줄'])"
   ]
  },
  {
   "cell_type": "code",
   "execution_count": 147,
   "metadata": {
    "scrolled": false
   },
   "outputs": [
    {
     "name": "stdout",
     "output_type": "stream",
     "text": [
      "첫번째 줄\n",
      "\n",
      "두번째 줄\n",
      "\n",
      "세번째 줄첫번째 줄\n",
      "\n",
      "두번째 줄\n",
      "\n",
      "세번째 줄첫번째 줄\n",
      "\n",
      "두번째 줄\n",
      "\n",
      "세번째 줄\n",
      "\n"
     ]
    }
   ],
   "source": [
    "fi = open('my_text3.txt')\n",
    "print(fi.readline())\n",
    "print(fi.readline())\n",
    "print(fi.readline())\n",
    "print(fi.readline())\n",
    "print(fi.readline())\n",
    "print(fi.readline())\n",
    "print(fi.readline())\n",
    "print(fi.readline())\n",
    "fi.close()"
   ]
  },
  {
   "cell_type": "code",
   "execution_count": null,
   "metadata": {},
   "outputs": [],
   "source": [
    "try:\n",
    "    1. 연결\n",
    "    2. 입출력\n",
    "except:\n",
    "    연결, 입출시 발생한 예외 처리\n",
    "finally:\n",
    "    3.닫기"
   ]
  },
  {
   "cell_type": "code",
   "execution_count": null,
   "metadata": {},
   "outputs": [],
   "source": [
    "\n",
    "    fi = open('my_text3.txt')\n",
    "    x = fi.read()\n",
    "    print(x)\n"
   ]
  },
  {
   "cell_type": "code",
   "execution_count": null,
   "metadata": {},
   "outputs": [],
   "source": [
    "try:\n",
    "    with open('my_text3.txt') as fi:\n",
    "        x = fi.read()\n",
    "        print(x)\n",
    "except:\n",
    "    pass\n",
    "# with 블럭의 실행이 끝나면 알아서 close를 해준다.\n"
   ]
  },
  {
   "cell_type": "code",
   "execution_count": null,
   "metadata": {},
   "outputs": [],
   "source": [
    "try:\n",
    "    fo = open('test.txt', \"wt\")\n",
    "    fo.write(\"a\")\n",
    "    fo.write(\"b\")\n",
    "except:\n",
    "    pass"
   ]
  },
  {
   "cell_type": "code",
   "execution_count": 149,
   "metadata": {},
   "outputs": [],
   "source": [
    "try:\n",
    "    with open('test.txt', \"wt\") as fo:\n",
    "        fo.write('a')\n",
    "        fo.write('b')\n",
    "except:\n",
    "    pass\n",
    "# close"
   ]
  },
  {
   "cell_type": "markdown",
   "metadata": {},
   "source": [
    "## TODO"
   ]
  },
  {
   "cell_type": "markdown",
   "metadata": {},
   "source": [
    "TODO - 간단한 메모장  \n",
    "사용자로부터 파일명을 입력받는다.    \n",
    "사용자로 부터 파일에 저장할 문장을 입력받아서 파일에 저장한다.    \n",
    "사용자가 !q 를 입력하면 종료한다.\n",
    "\n",
    "\n",
    "사용자가 저장한 파일을 읽어서 출력한다.  \n",
    "\n",
    "- input() 사용자로부터 text를 입력받는다.\n",
    "- 함수"
   ]
  },
  {
   "cell_type": "code",
   "execution_count": 150,
   "metadata": {},
   "outputs": [
    {
     "name": "stdout",
     "output_type": "stream",
     "text": [
      "파일명:abc.txt\n"
     ]
    }
   ],
   "source": [
    "file = input(\"파일명:\")"
   ]
  },
  {
   "cell_type": "code",
   "execution_count": null,
   "metadata": {},
   "outputs": [],
   "source": []
  },
  {
   "cell_type": "markdown",
   "metadata": {},
   "source": [
    "## csv (Comma Separated Value) 파일\n",
    "- 정형데이터(테이블-표 형태)를 파일에 저장하는 방식.\n",
    "- 한개의 데이터를 한줄에 표시\n",
    "- 한개의 데이터를 구성하는 값(속성)은 `,` 로 구분\n",
    "    - tsv(Tab Separated Value) - 속성값들을 tab으로 구분\n",
    "- 텍스트파일 기반\n",
    "- 파일 확장자는  `.csv`, `.tsv` 를 사용."
   ]
  },
  {
   "cell_type": "code",
   "execution_count": null,
   "metadata": {},
   "outputs": [],
   "source": [
    "TODO - csv 파일을 읽어서 각 열의 값을 배열에 담는다.   \n",
    "이름,나이,주소  형태의 csv를 읽어   \n",
    "names = [\"홍길동\", \"박영희\",\"김영수\", ...]   \n",
    "ages =[20,30,17,20,22]  \n",
    "address =[\"서울\",\"인천\",\"부산\",...]  \n",
    "배열에 넣는다. 라인이 index가 된다.  \n",
    "\n",
    "홍길동,20,서울\n",
    "박영희,30,인천\n",
    "김영수,17,부산\n",
    "이경수,20,서울\n",
    "장경철,22,인천\n",
    "\n",
    "이름,나이,주소\n",
    "한줄이 한개(한명)의 데이터"
   ]
  },
  {
   "cell_type": "code",
   "execution_count": null,
   "metadata": {},
   "outputs": [],
   "source": [
    "data.csv"
   ]
  },
  {
   "cell_type": "code",
   "execution_count": 159,
   "metadata": {},
   "outputs": [],
   "source": [
    "fi = open('data.csv','rt', encoding='cp949')\n"
   ]
  },
  {
   "cell_type": "code",
   "execution_count": 157,
   "metadata": {},
   "outputs": [
    {
     "ename": "UnicodeDecodeError",
     "evalue": "'cp949' codec can't decode byte 0xed in position 0: illegal multibyte sequence",
     "output_type": "error",
     "traceback": [
      "\u001b[1;31m---------------------------------------------------------------------------\u001b[0m",
      "\u001b[1;31mUnicodeDecodeError\u001b[0m                        Traceback (most recent call last)",
      "\u001b[1;32m<ipython-input-157-abfafe9c40b4>\u001b[0m in \u001b[0;36m<module>\u001b[1;34m\u001b[0m\n\u001b[0;32m      1\u001b[0m \u001b[1;32mwith\u001b[0m \u001b[0mopen\u001b[0m\u001b[1;33m(\u001b[0m\u001b[1;34m'data.csv'\u001b[0m\u001b[1;33m,\u001b[0m\u001b[1;34m'rt'\u001b[0m\u001b[1;33m)\u001b[0m \u001b[1;32mas\u001b[0m \u001b[0mfi\u001b[0m\u001b[1;33m:\u001b[0m\u001b[1;33m\u001b[0m\u001b[1;33m\u001b[0m\u001b[0m\n\u001b[1;32m----> 2\u001b[1;33m     \u001b[0mprint\u001b[0m\u001b[1;33m(\u001b[0m\u001b[0mfi\u001b[0m\u001b[1;33m.\u001b[0m\u001b[0mread\u001b[0m\u001b[1;33m(\u001b[0m\u001b[1;33m)\u001b[0m\u001b[1;33m)\u001b[0m\u001b[1;33m\u001b[0m\u001b[1;33m\u001b[0m\u001b[0m\n\u001b[0m",
      "\u001b[1;31mUnicodeDecodeError\u001b[0m: 'cp949' codec can't decode byte 0xed in position 0: illegal multibyte sequence"
     ]
    }
   ],
   "source": [
    "with open('data.csv','rt', encoding='utf-8') as fi:\n",
    "    print(fi.read())"
   ]
  },
  {
   "cell_type": "code",
   "execution_count": null,
   "metadata": {},
   "outputs": [],
   "source": []
  }
 ],
 "metadata": {
  "kernelspec": {
   "display_name": "Python 3",
   "language": "python",
   "name": "python3"
  },
  "language_info": {
   "codemirror_mode": {
    "name": "ipython",
    "version": 3
   },
   "file_extension": ".py",
   "mimetype": "text/x-python",
   "name": "python",
   "nbconvert_exporter": "python",
   "pygments_lexer": "ipython3",
   "version": "3.8.5"
  }
 },
 "nbformat": 4,
 "nbformat_minor": 4
}
